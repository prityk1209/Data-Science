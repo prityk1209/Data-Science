{
 "cells": [
  {
   "cell_type": "code",
   "execution_count": 1,
   "id": "cda386c8-0631-4f79-b920-315d2c85203a",
   "metadata": {},
   "outputs": [
    {
     "name": "stdout",
     "output_type": "stream",
     "text": [
      "hello,im back\n"
     ]
    }
   ],
   "source": [
    "print(\"hello,im back\")"
   ]
  },
  {
   "cell_type": "code",
   "execution_count": 4,
   "id": "ecda5364-fe07-47cc-9dc5-29c216801a50",
   "metadata": {},
   "outputs": [
    {
     "name": "stdout",
     "output_type": "stream",
     "text": [
      "its working g\n"
     ]
    }
   ],
   "source": [
    "print(\"its working g\")"
   ]
  },
  {
   "cell_type": "markdown",
   "id": "6c3f76be-cb82-453c-931b-76513bb879e1",
   "metadata": {},
   "source": [
    "### printing hello world without using \"\" it will show error cuz hello is a string"
   ]
  },
  {
   "cell_type": "code",
   "execution_count": 6,
   "id": "77a47766-95c1-4821-95f3-89e2ebc226a9",
   "metadata": {},
   "outputs": [
    {
     "ename": "NameError",
     "evalue": "name 'hello' is not defined",
     "output_type": "error",
     "traceback": [
      "\u001b[1;31m---------------------------------------------------------------------------\u001b[0m",
      "\u001b[1;31mNameError\u001b[0m                                 Traceback (most recent call last)",
      "Cell \u001b[1;32mIn[6], line 1\u001b[0m\n\u001b[1;32m----> 1\u001b[0m \u001b[38;5;28mprint\u001b[39m(hello)\n",
      "\u001b[1;31mNameError\u001b[0m: name 'hello' is not defined"
     ]
    }
   ],
   "source": [
    "print(hello)"
   ]
  },
  {
   "cell_type": "markdown",
   "id": "479b8cdb-be92-48e6-ba87-fcc9f31d0690",
   "metadata": {},
   "source": [
    "#### try 4 hashtag"
   ]
  },
  {
   "cell_type": "code",
   "execution_count": 7,
   "id": "8e86ef56-b23e-4153-951f-8bd0220b755d",
   "metadata": {},
   "outputs": [
    {
     "name": "stdout",
     "output_type": "stream",
     "text": [
      "10\n"
     ]
    }
   ],
   "source": [
    "print(10)"
   ]
  },
  {
   "cell_type": "markdown",
   "id": "ea0edc35-cd1b-4912-a163-79945d3a2cae",
   "metadata": {},
   "source": [
    "#####try 5 hashtag"
   ]
  },
  {
   "cell_type": "markdown",
   "id": "47c4ff82-260f-4d60-8495-cbcebf2bfc68",
   "metadata": {},
   "source": [
    "## try 2 hashtag"
   ]
  },
  {
   "cell_type": "code",
   "execution_count": 8,
   "id": "00683277-ddc1-448a-af36-cd8cd2aff30f",
   "metadata": {},
   "outputs": [
    {
     "name": "stdout",
     "output_type": "stream",
     "text": [
      "hell\n"
     ]
    }
   ],
   "source": [
    "print('hell')"
   ]
  },
  {
   "cell_type": "code",
   "execution_count": 9,
   "id": "67bc4d68-c8d9-43ca-9dce-6c58dfe2ca94",
   "metadata": {},
   "outputs": [
    {
     "name": "stdout",
     "output_type": "stream",
     "text": [
      "Prity\n"
     ]
    }
   ],
   "source": [
    "print(\"Prity\")"
   ]
  },
  {
   "cell_type": "code",
   "execution_count": null,
   "id": "a2138084-03c7-450d-839c-9396c2655c91",
   "metadata": {},
   "outputs": [],
   "source": []
  }
 ],
 "metadata": {
  "kernelspec": {
   "display_name": "Python 3 (ipykernel)",
   "language": "python",
   "name": "python3"
  },
  "language_info": {
   "codemirror_mode": {
    "name": "ipython",
    "version": 3
   },
   "file_extension": ".py",
   "mimetype": "text/x-python",
   "name": "python",
   "nbconvert_exporter": "python",
   "pygments_lexer": "ipython3",
   "version": "3.12.7"
  }
 },
 "nbformat": 4,
 "nbformat_minor": 5
}
