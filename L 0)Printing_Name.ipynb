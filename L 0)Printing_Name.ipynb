{
 "cells": [
  {
   "cell_type": "code",
   "execution_count": 1,
   "id": "de3240a7-b31f-4d8c-a5a2-2ed88e249d8a",
   "metadata": {},
   "outputs": [
    {
     "name": "stdout",
     "output_type": "stream",
     "text": [
      "hello\n",
      "prity\n"
     ]
    }
   ],
   "source": [
    "print(\"hello\")\n",
    "print(\"prity\")"
   ]
  },
  {
   "cell_type": "raw",
   "id": "06e0df66-aa7c-4d32-b2d9-3a7591c6a4ee",
   "metadata": {},
   "source": [
    "a = 5\n",
    "print(a)"
   ]
  },
  {
   "cell_type": "code",
   "execution_count": 2,
   "id": "fd058def-816c-4184-8ac3-6425dd8ca476",
   "metadata": {},
   "outputs": [
    {
     "name": "stdout",
     "output_type": "stream",
     "text": [
      "kkk\n"
     ]
    }
   ],
   "source": [
    "print(\"kkk\")"
   ]
  },
  {
   "cell_type": "code",
   "execution_count": 3,
   "id": "f2791173-4d7c-42cf-960f-e26e9c4d407c",
   "metadata": {},
   "outputs": [
    {
     "name": "stdout",
     "output_type": "stream",
     "text": [
      "jjgf\n"
     ]
    }
   ],
   "source": [
    "print(\"jjgf\")"
   ]
  },
  {
   "cell_type": "code",
   "execution_count": 4,
   "id": "47eeabd2-9335-4c83-9ae6-ccb0efa61644",
   "metadata": {},
   "outputs": [
    {
     "name": "stdout",
     "output_type": "stream",
     "text": [
      "hgf\n"
     ]
    }
   ],
   "source": [
    "print(\"hgf\")"
   ]
  },
  {
   "cell_type": "code",
   "execution_count": null,
   "id": "3f512d67-0d18-468b-bbfb-86b6a63e02b0",
   "metadata": {},
   "outputs": [],
   "source": [
    "%config IPCompleter.greedy=TRUE\n",
    "print(\"hellll\")"
   ]
  }
 ],
 "metadata": {
  "kernelspec": {
   "display_name": "Python 3 (ipykernel)",
   "language": "python",
   "name": "python3"
  },
  "language_info": {
   "codemirror_mode": {
    "name": "ipython",
    "version": 3
   },
   "file_extension": ".py",
   "mimetype": "text/x-python",
   "name": "python",
   "nbconvert_exporter": "python",
   "pygments_lexer": "ipython3",
   "version": "3.12.7"
  }
 },
 "nbformat": 4,
 "nbformat_minor": 5
}
